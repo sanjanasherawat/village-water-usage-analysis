{
 "cells": [
  {
   "cell_type": "markdown",
   "id": "a9916a88-617f-4da3-9746-dd0d50668045",
   "metadata": {},
   "source": [
    "### Import Libraries"
   ]
  },
  {
   "cell_type": "code",
   "execution_count": 1,
   "id": "2ba64346-6657-4125-966e-e813e3c75d51",
   "metadata": {},
   "outputs": [],
   "source": [
    "import pandas as pd\n",
    "import numpy as np"
   ]
  },
  {
   "cell_type": "code",
   "execution_count": 3,
   "id": "8b025dfd-67fd-4ea9-9f68-49008d0df6ae",
   "metadata": {},
   "outputs": [
    {
     "data": {
      "text/html": [
       "<div>\n",
       "<style scoped>\n",
       "    .dataframe tbody tr th:only-of-type {\n",
       "        vertical-align: middle;\n",
       "    }\n",
       "\n",
       "    .dataframe tbody tr th {\n",
       "        vertical-align: top;\n",
       "    }\n",
       "\n",
       "    .dataframe thead th {\n",
       "        text-align: right;\n",
       "    }\n",
       "</style>\n",
       "<table border=\"1\" class=\"dataframe\">\n",
       "  <thead>\n",
       "    <tr style=\"text-align: right;\">\n",
       "      <th></th>\n",
       "      <th>Date</th>\n",
       "      <th>Village_Name</th>\n",
       "      <th>Households</th>\n",
       "      <th>Total_Water_Used(L)</th>\n",
       "      <th>Rainfall(mm)</th>\n",
       "    </tr>\n",
       "  </thead>\n",
       "  <tbody>\n",
       "    <tr>\n",
       "      <th>0</th>\n",
       "      <td>2025-06-01</td>\n",
       "      <td>Rampur</td>\n",
       "      <td>120</td>\n",
       "      <td>5400</td>\n",
       "      <td>2.5</td>\n",
       "    </tr>\n",
       "    <tr>\n",
       "      <th>1</th>\n",
       "      <td>2025-06-02</td>\n",
       "      <td>Rampur</td>\n",
       "      <td>120</td>\n",
       "      <td>6200</td>\n",
       "      <td>0.0</td>\n",
       "    </tr>\n",
       "    <tr>\n",
       "      <th>2</th>\n",
       "      <td>2025-06-03</td>\n",
       "      <td>Rampur</td>\n",
       "      <td>120</td>\n",
       "      <td>4800</td>\n",
       "      <td>5.0</td>\n",
       "    </tr>\n",
       "    <tr>\n",
       "      <th>3</th>\n",
       "      <td>2025-06-04</td>\n",
       "      <td>Rampur</td>\n",
       "      <td>120</td>\n",
       "      <td>5000</td>\n",
       "      <td>3.0</td>\n",
       "    </tr>\n",
       "    <tr>\n",
       "      <th>4</th>\n",
       "      <td>2025-06-05</td>\n",
       "      <td>Rampur</td>\n",
       "      <td>120</td>\n",
       "      <td>5500</td>\n",
       "      <td>0.0</td>\n",
       "    </tr>\n",
       "    <tr>\n",
       "      <th>5</th>\n",
       "      <td>2025-06-06</td>\n",
       "      <td>Rampur</td>\n",
       "      <td>120</td>\n",
       "      <td>5300</td>\n",
       "      <td>1.0</td>\n",
       "    </tr>\n",
       "    <tr>\n",
       "      <th>6</th>\n",
       "      <td>2025-06-07</td>\n",
       "      <td>Rampur</td>\n",
       "      <td>120</td>\n",
       "      <td>4900</td>\n",
       "      <td>4.0</td>\n",
       "    </tr>\n",
       "  </tbody>\n",
       "</table>\n",
       "</div>"
      ],
      "text/plain": [
       "        Date Village_Name  Households  Total_Water_Used(L)  Rainfall(mm)\n",
       "0 2025-06-01       Rampur         120                 5400           2.5\n",
       "1 2025-06-02       Rampur         120                 6200           0.0\n",
       "2 2025-06-03       Rampur         120                 4800           5.0\n",
       "3 2025-06-04       Rampur         120                 5000           3.0\n",
       "4 2025-06-05       Rampur         120                 5500           0.0\n",
       "5 2025-06-06       Rampur         120                 5300           1.0\n",
       "6 2025-06-07       Rampur         120                 4900           4.0"
      ]
     },
     "execution_count": 3,
     "metadata": {},
     "output_type": "execute_result"
    }
   ],
   "source": [
    "#Sample dataset\n",
    "data = {\n",
    "    'Date': pd.date_range(start='2025-06-01', periods=7, freq='D'),\n",
    "    'Village_Name': ['Rampur']*7,\n",
    "    'Households': [120]*7,\n",
    "    'Total_Water_Used(L)': [5400,6200,4800,5000,5500,5300,4900],\n",
    "    'Rainfall(mm)': [2.5,0.0,5.0,3.0,0.0,1.0,4.0]\n",
    "}\n",
    "\n",
    "df = pd.DataFrame(data)\n",
    "df"
   ]
  },
  {
   "cell_type": "markdown",
   "id": "84bd135c-4b4f-4853-ba47-0977969cae56",
   "metadata": {},
   "source": [
    "### Average water per household"
   ]
  },
  {
   "cell_type": "code",
   "execution_count": 5,
   "id": "e131c0a6-23b6-43bc-b2be-32d36298318f",
   "metadata": {},
   "outputs": [
    {
     "data": {
      "text/html": [
       "<div>\n",
       "<style scoped>\n",
       "    .dataframe tbody tr th:only-of-type {\n",
       "        vertical-align: middle;\n",
       "    }\n",
       "\n",
       "    .dataframe tbody tr th {\n",
       "        vertical-align: top;\n",
       "    }\n",
       "\n",
       "    .dataframe thead th {\n",
       "        text-align: right;\n",
       "    }\n",
       "</style>\n",
       "<table border=\"1\" class=\"dataframe\">\n",
       "  <thead>\n",
       "    <tr style=\"text-align: right;\">\n",
       "      <th></th>\n",
       "      <th>Date</th>\n",
       "      <th>Village_Name</th>\n",
       "      <th>Households</th>\n",
       "      <th>Total_Water_Used(L)</th>\n",
       "      <th>Rainfall(mm)</th>\n",
       "      <th>Avg_Water_Per_Household</th>\n",
       "    </tr>\n",
       "  </thead>\n",
       "  <tbody>\n",
       "    <tr>\n",
       "      <th>0</th>\n",
       "      <td>2025-06-01</td>\n",
       "      <td>Rampur</td>\n",
       "      <td>120</td>\n",
       "      <td>5400</td>\n",
       "      <td>2.5</td>\n",
       "      <td>45.000000</td>\n",
       "    </tr>\n",
       "    <tr>\n",
       "      <th>1</th>\n",
       "      <td>2025-06-02</td>\n",
       "      <td>Rampur</td>\n",
       "      <td>120</td>\n",
       "      <td>6200</td>\n",
       "      <td>0.0</td>\n",
       "      <td>51.666667</td>\n",
       "    </tr>\n",
       "    <tr>\n",
       "      <th>2</th>\n",
       "      <td>2025-06-03</td>\n",
       "      <td>Rampur</td>\n",
       "      <td>120</td>\n",
       "      <td>4800</td>\n",
       "      <td>5.0</td>\n",
       "      <td>40.000000</td>\n",
       "    </tr>\n",
       "    <tr>\n",
       "      <th>3</th>\n",
       "      <td>2025-06-04</td>\n",
       "      <td>Rampur</td>\n",
       "      <td>120</td>\n",
       "      <td>5000</td>\n",
       "      <td>3.0</td>\n",
       "      <td>41.666667</td>\n",
       "    </tr>\n",
       "    <tr>\n",
       "      <th>4</th>\n",
       "      <td>2025-06-05</td>\n",
       "      <td>Rampur</td>\n",
       "      <td>120</td>\n",
       "      <td>5500</td>\n",
       "      <td>0.0</td>\n",
       "      <td>45.833333</td>\n",
       "    </tr>\n",
       "    <tr>\n",
       "      <th>5</th>\n",
       "      <td>2025-06-06</td>\n",
       "      <td>Rampur</td>\n",
       "      <td>120</td>\n",
       "      <td>5300</td>\n",
       "      <td>1.0</td>\n",
       "      <td>44.166667</td>\n",
       "    </tr>\n",
       "    <tr>\n",
       "      <th>6</th>\n",
       "      <td>2025-06-07</td>\n",
       "      <td>Rampur</td>\n",
       "      <td>120</td>\n",
       "      <td>4900</td>\n",
       "      <td>4.0</td>\n",
       "      <td>40.833333</td>\n",
       "    </tr>\n",
       "  </tbody>\n",
       "</table>\n",
       "</div>"
      ],
      "text/plain": [
       "        Date Village_Name  Households  Total_Water_Used(L)  Rainfall(mm)  \\\n",
       "0 2025-06-01       Rampur         120                 5400           2.5   \n",
       "1 2025-06-02       Rampur         120                 6200           0.0   \n",
       "2 2025-06-03       Rampur         120                 4800           5.0   \n",
       "3 2025-06-04       Rampur         120                 5000           3.0   \n",
       "4 2025-06-05       Rampur         120                 5500           0.0   \n",
       "5 2025-06-06       Rampur         120                 5300           1.0   \n",
       "6 2025-06-07       Rampur         120                 4900           4.0   \n",
       "\n",
       "   Avg_Water_Per_Household  \n",
       "0                45.000000  \n",
       "1                51.666667  \n",
       "2                40.000000  \n",
       "3                41.666667  \n",
       "4                45.833333  \n",
       "5                44.166667  \n",
       "6                40.833333  "
      ]
     },
     "execution_count": 5,
     "metadata": {},
     "output_type": "execute_result"
    }
   ],
   "source": [
    "df['Avg_Water_Per_Household'] = df['Total_Water_Used(L)'] / df['Households']\n",
    "df"
   ]
  },
  {
   "cell_type": "markdown",
   "id": "aa3be8f4-f6a2-46b7-8f9b-50cb9da28525",
   "metadata": {},
   "source": [
    "### Recommended usage (mean ± std)"
   ]
  },
  {
   "cell_type": "code",
   "execution_count": 7,
   "id": "b72af44d-b6e0-48e9-92c7-1c92b97c9609",
   "metadata": {},
   "outputs": [
    {
     "data": {
      "text/plain": [
       "(44.166666666666664, 3.6731544334622646, 40.4935122332044, 47.83982110012893)"
      ]
     },
     "execution_count": 7,
     "metadata": {},
     "output_type": "execute_result"
    }
   ],
   "source": [
    "avg_usage = np.mean(df['Avg_Water_Per_Household'])\n",
    "std_usage = np.std(df['Avg_Water_Per_Household'])\n",
    "min_usage = avg_usage - std_usage\n",
    "max_usage = avg_usage + std_usage\n",
    "avg_usage,std_usage,min_usage,max_usage"
   ]
  },
  {
   "cell_type": "markdown",
   "id": "c182a4bd-fdda-4df4-a4d8-096c2d8e0e1f",
   "metadata": {},
   "source": [
    "### Classify usage"
   ]
  },
  {
   "cell_type": "code",
   "execution_count": 9,
   "id": "8b424ec4-d500-4a1c-8541-c0f8efba1cb7",
   "metadata": {},
   "outputs": [
    {
     "data": {
      "text/html": [
       "<div>\n",
       "<style scoped>\n",
       "    .dataframe tbody tr th:only-of-type {\n",
       "        vertical-align: middle;\n",
       "    }\n",
       "\n",
       "    .dataframe tbody tr th {\n",
       "        vertical-align: top;\n",
       "    }\n",
       "\n",
       "    .dataframe thead th {\n",
       "        text-align: right;\n",
       "    }\n",
       "</style>\n",
       "<table border=\"1\" class=\"dataframe\">\n",
       "  <thead>\n",
       "    <tr style=\"text-align: right;\">\n",
       "      <th></th>\n",
       "      <th>Date</th>\n",
       "      <th>Village_Name</th>\n",
       "      <th>Households</th>\n",
       "      <th>Total_Water_Used(L)</th>\n",
       "      <th>Rainfall(mm)</th>\n",
       "      <th>Avg_Water_Per_Household</th>\n",
       "      <th>Usage_Level</th>\n",
       "    </tr>\n",
       "  </thead>\n",
       "  <tbody>\n",
       "    <tr>\n",
       "      <th>0</th>\n",
       "      <td>2025-06-01</td>\n",
       "      <td>Rampur</td>\n",
       "      <td>120</td>\n",
       "      <td>5400</td>\n",
       "      <td>2.5</td>\n",
       "      <td>45.000000</td>\n",
       "      <td>Normal</td>\n",
       "    </tr>\n",
       "    <tr>\n",
       "      <th>1</th>\n",
       "      <td>2025-06-02</td>\n",
       "      <td>Rampur</td>\n",
       "      <td>120</td>\n",
       "      <td>6200</td>\n",
       "      <td>0.0</td>\n",
       "      <td>51.666667</td>\n",
       "      <td>High</td>\n",
       "    </tr>\n",
       "    <tr>\n",
       "      <th>2</th>\n",
       "      <td>2025-06-03</td>\n",
       "      <td>Rampur</td>\n",
       "      <td>120</td>\n",
       "      <td>4800</td>\n",
       "      <td>5.0</td>\n",
       "      <td>40.000000</td>\n",
       "      <td>Low</td>\n",
       "    </tr>\n",
       "    <tr>\n",
       "      <th>3</th>\n",
       "      <td>2025-06-04</td>\n",
       "      <td>Rampur</td>\n",
       "      <td>120</td>\n",
       "      <td>5000</td>\n",
       "      <td>3.0</td>\n",
       "      <td>41.666667</td>\n",
       "      <td>Normal</td>\n",
       "    </tr>\n",
       "    <tr>\n",
       "      <th>4</th>\n",
       "      <td>2025-06-05</td>\n",
       "      <td>Rampur</td>\n",
       "      <td>120</td>\n",
       "      <td>5500</td>\n",
       "      <td>0.0</td>\n",
       "      <td>45.833333</td>\n",
       "      <td>Normal</td>\n",
       "    </tr>\n",
       "    <tr>\n",
       "      <th>5</th>\n",
       "      <td>2025-06-06</td>\n",
       "      <td>Rampur</td>\n",
       "      <td>120</td>\n",
       "      <td>5300</td>\n",
       "      <td>1.0</td>\n",
       "      <td>44.166667</td>\n",
       "      <td>Normal</td>\n",
       "    </tr>\n",
       "    <tr>\n",
       "      <th>6</th>\n",
       "      <td>2025-06-07</td>\n",
       "      <td>Rampur</td>\n",
       "      <td>120</td>\n",
       "      <td>4900</td>\n",
       "      <td>4.0</td>\n",
       "      <td>40.833333</td>\n",
       "      <td>Normal</td>\n",
       "    </tr>\n",
       "  </tbody>\n",
       "</table>\n",
       "</div>"
      ],
      "text/plain": [
       "        Date Village_Name  Households  Total_Water_Used(L)  Rainfall(mm)  \\\n",
       "0 2025-06-01       Rampur         120                 5400           2.5   \n",
       "1 2025-06-02       Rampur         120                 6200           0.0   \n",
       "2 2025-06-03       Rampur         120                 4800           5.0   \n",
       "3 2025-06-04       Rampur         120                 5000           3.0   \n",
       "4 2025-06-05       Rampur         120                 5500           0.0   \n",
       "5 2025-06-06       Rampur         120                 5300           1.0   \n",
       "6 2025-06-07       Rampur         120                 4900           4.0   \n",
       "\n",
       "   Avg_Water_Per_Household Usage_Level  \n",
       "0                45.000000      Normal  \n",
       "1                51.666667        High  \n",
       "2                40.000000         Low  \n",
       "3                41.666667      Normal  \n",
       "4                45.833333      Normal  \n",
       "5                44.166667      Normal  \n",
       "6                40.833333      Normal  "
      ]
     },
     "execution_count": 9,
     "metadata": {},
     "output_type": "execute_result"
    }
   ],
   "source": [
    "def classify_usage(x):\n",
    "    if x < min_usage:\n",
    "        return 'Low'\n",
    "    elif x > max_usage:\n",
    "        return 'High'\n",
    "    else:\n",
    "        return 'Normal'\n",
    "\n",
    "df['Usage_Level'] = df['Avg_Water_Per_Household'].apply(classify_usage)\n",
    "df"
   ]
  },
  {
   "cell_type": "markdown",
   "id": "b91dc271-bd3f-4eb4-841d-8dee7c39376f",
   "metadata": {},
   "source": [
    "### Rainfall effect"
   ]
  },
  {
   "cell_type": "code",
   "execution_count": 11,
   "id": "4df41f9f-e2b5-412a-83e3-e99caca22269",
   "metadata": {},
   "outputs": [
    {
     "data": {
      "text/plain": [
       "(42.33333333333333, 48.75)"
      ]
     },
     "execution_count": 11,
     "metadata": {},
     "output_type": "execute_result"
    }
   ],
   "source": [
    "rainy_days_avg = np.mean(df[df['Rainfall(mm)']>0]['Avg_Water_Per_Household'])\n",
    "dry_days_avg = np.mean(df[df['Rainfall(mm)']==0]['Avg_Water_Per_Household'])\n",
    "rainy_days_avg,dry_days_avg"
   ]
  },
  {
   "cell_type": "markdown",
   "id": "ec998d1a-0bec-4d2b-8d92-5ea2ccc102e7",
   "metadata": {},
   "source": [
    "### Predict next day usage (simple estimate)"
   ]
  },
  {
   "cell_type": "code",
   "execution_count": 12,
   "id": "a1a316b2-6f3e-4c5b-bb98-131337945302",
   "metadata": {},
   "outputs": [],
   "source": [
    "next_day_usage = df['Avg_Water_Per_Household'].iloc[-1] - 0.5 * df['Rainfall(mm)'].iloc[-1]"
   ]
  },
  {
   "cell_type": "markdown",
   "id": "8a8f090b-e6a0-465b-a331-7325d28d1e5a",
   "metadata": {},
   "source": [
    "### Display result"
   ]
  },
  {
   "cell_type": "code",
   "execution_count": 13,
   "id": "c0b6b8d2-bb2c-4294-ac0b-b967dad239ce",
   "metadata": {},
   "outputs": [
    {
     "name": "stdout",
     "output_type": "stream",
     "text": [
      "        Date Village_Name  Households  Total_Water_Used(L)  Rainfall(mm)  \\\n",
      "0 2025-06-01       Rampur         120                 5400           2.5   \n",
      "1 2025-06-02       Rampur         120                 6200           0.0   \n",
      "2 2025-06-03       Rampur         120                 4800           5.0   \n",
      "3 2025-06-04       Rampur         120                 5000           3.0   \n",
      "4 2025-06-05       Rampur         120                 5500           0.0   \n",
      "5 2025-06-06       Rampur         120                 5300           1.0   \n",
      "6 2025-06-07       Rampur         120                 4900           4.0   \n",
      "\n",
      "   Avg_Water_Per_Household Usage_Level  \n",
      "0                45.000000      Normal  \n",
      "1                51.666667        High  \n",
      "2                40.000000         Low  \n",
      "3                41.666667      Normal  \n",
      "4                45.833333      Normal  \n",
      "5                44.166667      Normal  \n",
      "6                40.833333      Normal  \n",
      "\n",
      "Recommended daily usage per household: 40.49 to 47.84 L/day\n",
      "Average usage on rainy days: 42.33\n",
      "Average usage on dry days: 48.75\n",
      "Estimated usage for next day: 38.83 L/household\n"
     ]
    }
   ],
   "source": [
    "print(df)\n",
    "print(\"\\nRecommended daily usage per household:\", round(min_usage,2), \"to\", round(max_usage,2), \"L/day\")\n",
    "print(\"Average usage on rainy days:\", round(rainy_days_avg,2))\n",
    "print(\"Average usage on dry days:\", round(dry_days_avg,2))\n",
    "print(\"Estimated usage for next day:\", round(next_day_usage,2), \"L/household\")"
   ]
  }
 ],
 "metadata": {
  "kernelspec": {
   "display_name": "Python 3 (ipykernel)",
   "language": "python",
   "name": "python3"
  },
  "language_info": {
   "codemirror_mode": {
    "name": "ipython",
    "version": 3
   },
   "file_extension": ".py",
   "mimetype": "text/x-python",
   "name": "python",
   "nbconvert_exporter": "python",
   "pygments_lexer": "ipython3",
   "version": "3.12.4"
  }
 },
 "nbformat": 4,
 "nbformat_minor": 5
}
